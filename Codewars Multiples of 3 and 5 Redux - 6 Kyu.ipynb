{
 "cells": [
  {
   "cell_type": "markdown",
   "metadata": {},
   "source": [
    "# Codewars Multiples of 3 and 5 Redux - 6 Kyu\n",
    "## John A. Fonte\n",
    "\n",
    "### PROMPT\n",
    "\n",
    "Return the sum of the multiples of 3 and 5 below a number. Being the galactic games, the tracks can get rather large, so your solution should work for really large numbers (greater than 1,000,000).\n",
    "\n",
    "#### SAMPLES\n",
    "\n",
    "`\n",
    "solution(10) # => 23 = 3 + 5 + 6 + 9\n",
    "solution(20) # => 78 = 3 + 5 + 6 + 9 + 10 + 12 + 15 + 18\n",
    "`\n",
    "***\n"
   ]
  },
  {
   "cell_type": "code",
   "execution_count": 47,
   "metadata": {},
   "outputs": [],
   "source": [
    "# Starting function\n",
    "def solution(number):\n",
    "    multiplesSum = 0\n",
    "    for i in range(3, number):\n",
    "        \n",
    "        if (not i % 3 or not i % 5):\n",
    "            multiplesSum += i\n",
    "            \n",
    "    return multiplesSum"
   ]
  },
  {
   "cell_type": "code",
   "execution_count": 49,
   "metadata": {},
   "outputs": [
    {
     "name": "stdout",
     "output_type": "stream",
     "text": [
      "23\n",
      "78\n"
     ]
    }
   ],
   "source": [
    "print(solution(10))\n",
    "print(solution(20))"
   ]
  },
  {
   "cell_type": "markdown",
   "metadata": {},
   "source": [
    "### OBSERVATION:\n",
    "\n",
    "Works for small numbers, but the range problem really slows the function down. Can get it down to O(1)!\n",
    "***"
   ]
  },
  {
   "cell_type": "code",
   "execution_count": 37,
   "metadata": {},
   "outputs": [],
   "source": [
    "# Showing how slow this is\n",
    "import time"
   ]
  },
  {
   "cell_type": "code",
   "execution_count": 46,
   "metadata": {},
   "outputs": [
    {
     "name": "stdout",
     "output_type": "stream",
     "text": [
      "195\n",
      "258\n",
      "368\n",
      "450\n",
      "543\n",
      "1275\n",
      "2318\n",
      "1312499962500000\n",
      "My program took 8.084599256515503 seconds to run.\n"
     ]
    }
   ],
   "source": [
    "# get start time\n",
    "\n",
    "start_time = time.time()\n",
    "\n",
    "print(solution(30))\n",
    "print(solution(35))\n",
    "print(solution(40))\n",
    "print(solution(45))\n",
    "print(solution(50))\n",
    "print(solution(75))\n",
    "print(solution(100))\n",
    "print(solution(75000000))\n",
    "\n",
    "print('My program took {} seconds to run.'.format(time.time() - start_time))"
   ]
  },
  {
   "cell_type": "code",
   "execution_count": 51,
   "metadata": {},
   "outputs": [],
   "source": [
    "'''\n",
    "THE TRICK: Use an *******Arithmetic Progression Function********\n",
    "\n",
    "SUM = (n / 2) * (first term + last term)\n",
    "\n",
    "where \n",
    "n = number of multiples within range\n",
    "\n",
    "and where \n",
    "last term = first term (3) + ((n-1) * commonDifference (3))\n",
    "or n = ((last term - first term )/commonDifference) + 1\n",
    "\n",
    "TO NOTE: last term = (end of range // multiplier) * multiplier! Try it out!\n",
    "'''\n",
    "\n",
    "\n",
    "def solution2(number):\n",
    "    \n",
    "    # get last terms:\n",
    "    \n",
    "    n3_last = (number // 3) * 3\n",
    "    n5_last = (number // 5) * 5\n",
    "    n15_last = (number // 15) * 15\n",
    "    \n",
    "    # ^^^^^^^^getting sum of 15 to avoid redundant summing from both 3 and 5 multiples\n",
    "    \n",
    "    # get values of n:\n",
    "    \n",
    "    n3_no = ((n3_last - 3) / 3) + 1\n",
    "    n5_no = ((n5_last - 5) / 5) + 1\n",
    "    n15_no = ((n15_last - 15) / 15) + 1\n",
    "    \n",
    "    # Use Arithmetic Progression Function to get sum\n",
    "    \n",
    "    sum3 = (n3_no / 2) * (3 + n3_last)\n",
    "    sum5 = (n5_no / 2) * (5 + n5_last)\n",
    "    sum15 = (n15_no / 2) * (15 + n15_last)\n",
    "\n",
    "    # summing up values, excluding sum15 redundancies\n",
    "    \n",
    "    return (sum3 + sum5) - sum15"
   ]
  },
  {
   "cell_type": "code",
   "execution_count": 54,
   "metadata": {},
   "outputs": [
    {
     "name": "stdout",
     "output_type": "stream",
     "text": [
      "33.0\n",
      "98.0\n",
      "\n",
      "\n",
      "225.0\n",
      "293.0\n",
      "408.0\n",
      "495.0\n",
      "593.0\n",
      "1350.0\n",
      "2418.0\n",
      "1312500037500000.0\n",
      "\n",
      "My program took 0.0009970664978027344 to run.\n"
     ]
    }
   ],
   "source": [
    "# checking speed again\n",
    "start_time = time.time()\n",
    "\n",
    "print(solution2(10))\n",
    "print(solution2(20))\n",
    "print('\\n')\n",
    "print(solution2(30))\n",
    "print(solution2(35))\n",
    "print(solution2(40))\n",
    "print(solution2(45))\n",
    "print(solution2(50))\n",
    "print(solution2(75))\n",
    "print(solution2(100))\n",
    "print(solution2(75000000))\n",
    "\n",
    "print('\\nMy program took {} to run.'.format(time.time() - start_time))"
   ]
  },
  {
   "cell_type": "markdown",
   "metadata": {},
   "source": [
    "***\n",
    "### OBSERVATION\n",
    "\n",
    "...These values appear to be different entirely from the previous function. Ugh.\n",
    "\n",
    "\n",
    "Let's try a slightly different version of the function: `SUM = (n(2*firstTerm + (n-1)*commonDifference))/2`\n",
    "\n",
    "***"
   ]
  },
  {
   "cell_type": "code",
   "execution_count": 43,
   "metadata": {},
   "outputs": [],
   "source": [
    "def solutionFINAL(number):\n",
    "    \n",
    "    # get last terms:\n",
    "    \n",
    "    n3_last = (number // 3) * 3\n",
    "    n5_last = (number // 5) * 5\n",
    "    n15_last = (number // 15) * 15\n",
    "    \n",
    "    # ^^^^^^^^getting sum of 15 to avoid redundant summing from both 3 and 5 multiples\n",
    "    \n",
    "    # get values of n:\n",
    "    \n",
    "    n3_no = ((n3_last - 3) / 3) + 1\n",
    "    n5_no = ((n5_last - 5) / 5) + 1\n",
    "    n15_no = ((n15_last - 15) / 15) + 1\n",
    "    \n",
    "    # Use ***NEW*** Arithmetic Progression Function to get sum\n",
    "    \n",
    "    sum3 = (n3_no * (2*3 + (n3_no-1)*3))/2\n",
    "    sum5 = (n5_no * (2*5 + (n5_no-1)*5))/2\n",
    "    sum15 = (n15_no * (2*15 + (n15_no-1)*15))/2\n",
    "\n",
    "    # summing up values, excluding sum15 redundancies\n",
    "    \n",
    "    return (sum3 + sum5) - sum15"
   ]
  },
  {
   "cell_type": "code",
   "execution_count": 44,
   "metadata": {},
   "outputs": [
    {
     "name": "stdout",
     "output_type": "stream",
     "text": [
      "225.0\n",
      "293.0\n",
      "408.0\n",
      "495.0\n",
      "593.0\n",
      "1350.0\n",
      "2418.0\n",
      "1312500037500000.0\n",
      "My program took 0.0 seconds to run.\n"
     ]
    }
   ],
   "source": [
    "# checking accuracy and speed again\n",
    "start_time = time.time()\n",
    "\n",
    "print(solutionFINAL(30))\n",
    "print(solutionFINAL(35))\n",
    "print(solutionFINAL(40))\n",
    "print(solutionFINAL(45))\n",
    "print(solutionFINAL(50))\n",
    "print(solutionFINAL(75))\n",
    "print(solutionFINAL(100))\n",
    "print(solutionFINAL(75000000))\n",
    "\n",
    "print('My program took {} seconds to run.'.format(time.time() - start_time))"
   ]
  },
  {
   "cell_type": "markdown",
   "metadata": {},
   "source": [
    "### FINAL OBSERVATION\n",
    "\n",
    "The answers are off by a value of n. I'm not sure why. Nevertheless, this is a simple tweak on the return line.\n",
    "***"
   ]
  },
  {
   "cell_type": "code",
   "execution_count": 55,
   "metadata": {},
   "outputs": [],
   "source": [
    "def solutionFINALFINAL(number):\n",
    "    \n",
    "    # get last terms:\n",
    "    \n",
    "    n3_last = (number // 3) * 3\n",
    "    n5_last = (number // 5) * 5\n",
    "    n15_last = (number // 15) * 15\n",
    "    \n",
    "    # ^^^^^^^^getting sum of 15 to avoid redundant summing from both 3 and 5 multiples\n",
    "    \n",
    "    # get values of n:\n",
    "    \n",
    "    n3_no = ((n3_last - 3) / 3) + 1\n",
    "    n5_no = ((n5_last - 5) / 5) + 1\n",
    "    n15_no = ((n15_last - 15) / 15) + 1\n",
    "    \n",
    "    # Use ***NEW*** Arithmetic Progression Function to get sum\n",
    "    \n",
    "    sum3 = (n3_no * (2*3 + (n3_no-1)*3))/2\n",
    "    sum5 = (n5_no * (2*5 + (n5_no-1)*5))/2\n",
    "    sum15 = (n15_no * (2*15 + (n15_no-1)*15))/2\n",
    "\n",
    "    # summing up values, excluding sum15 redundancies\n",
    "    \n",
    "    return (sum3 + sum5) - sum15 - number"
   ]
  },
  {
   "cell_type": "code",
   "execution_count": 56,
   "metadata": {},
   "outputs": [
    {
     "name": "stdout",
     "output_type": "stream",
     "text": [
      "23.0\n",
      "78.0\n",
      "\n",
      "\n",
      "195.0\n",
      "258.0\n",
      "368.0\n",
      "450.0\n",
      "543.0\n",
      "1275.0\n",
      "2318.0\n",
      "1312499962500000.0\n",
      "\n",
      "My program took 0.0 seconds to run.\n"
     ]
    }
   ],
   "source": [
    "# checking accuracy and speed for the last time\n",
    "start_time = time.time()\n",
    "\n",
    "print(solutionFINALFINAL(10))\n",
    "print(solutionFINALFINAL(20))\n",
    "print('\\n')\n",
    "print(solutionFINALFINAL(30))\n",
    "print(solutionFINALFINAL(35))\n",
    "print(solutionFINALFINAL(40))\n",
    "print(solutionFINALFINAL(45))\n",
    "print(solutionFINALFINAL(50))\n",
    "print(solutionFINALFINAL(75))\n",
    "print(solutionFINALFINAL(100))\n",
    "print(solutionFINALFINAL(75000000))\n",
    "\n",
    "print('\\nMy program took {} seconds to run.'.format(time.time() - start_time))"
   ]
  },
  {
   "cell_type": "markdown",
   "metadata": {},
   "source": [
    "***\n",
    "### QUICK ISSUE\n",
    "\n",
    "For much larger values (see below), Python converts it to scientific notation. This can be fixed quickly by designating it as the integer type.\n",
    "***"
   ]
  },
  {
   "cell_type": "code",
   "execution_count": 59,
   "metadata": {
    "scrolled": true
   },
   "outputs": [
    {
     "name": "stdout",
     "output_type": "stream",
     "text": [
      "5.833333333333334e+80\n",
      "<class 'float'>\n",
      "583333333333333410278770219121757747033409192900028285600110264712417216613580800\n"
     ]
    }
   ],
   "source": [
    "print(solutionFINALFINAL(50000000000000000000000000000000000000000))\n",
    "print(type(solutionFINALFINAL(50000000000000000000000000000000000000000)))\n",
    "print(int(solutionFINALFINAL(50000000000000000000000000000000000000000)))"
   ]
  },
  {
   "cell_type": "markdown",
   "metadata": {},
   "source": [
    "***\n",
    "### FLOATING POINT ERROR PROBLEM\n",
    "\n",
    "According to Codewars, the final answer should be: <br>\n",
    "583333333333333333333333333333333333333291666666666666666666666666666666666666668\n",
    "\n",
    "\n",
    "What is going wrong here?\n",
    "***"
   ]
  },
  {
   "cell_type": "code",
   "execution_count": 62,
   "metadata": {},
   "outputs": [
    {
     "name": "stdout",
     "output_type": "stream",
     "text": [
      "The difference between our result and the expected value is\n",
      " 76945436885788424413700117526233361618933443598045750549946914132\n"
     ]
    }
   ],
   "source": [
    "answer = 583333333333333333333333333333333333333291666666666666666666666666666666666666668\n",
    "print('The difference between our result and the expected value is\\n', \n",
    "      int(solutionFINALFINAL(50000000000000000000000000000000000000000)) - answer)"
   ]
  },
  {
   "cell_type": "code",
   "execution_count": 66,
   "metadata": {},
   "outputs": [
    {
     "data": {
      "text/plain": [
       "5.833333333333334e+80"
      ]
     },
     "execution_count": 66,
     "metadata": {},
     "output_type": "execute_result"
    }
   ],
   "source": [
    "float(solutionFINALFINAL(50000000000000000000000000000000000000000))"
   ]
  },
  {
   "cell_type": "markdown",
   "metadata": {},
   "source": [
    "# COMPLETE!\n",
    "-JAF"
   ]
  }
 ],
 "metadata": {
  "kernelspec": {
   "display_name": "Python 3",
   "language": "python",
   "name": "python3"
  },
  "language_info": {
   "codemirror_mode": {
    "name": "ipython",
    "version": 3
   },
   "file_extension": ".py",
   "mimetype": "text/x-python",
   "name": "python",
   "nbconvert_exporter": "python",
   "pygments_lexer": "ipython3",
   "version": "3.7.7"
  }
 },
 "nbformat": 4,
 "nbformat_minor": 4
}
