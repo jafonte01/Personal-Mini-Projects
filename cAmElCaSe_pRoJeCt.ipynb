{
 "cells": [
  {
   "cell_type": "markdown",
   "metadata": {},
   "source": [
    "# CAMELCASE PROJECT\n",
    "\n",
    "**GOAL**\n",
    "\n",
    "For a given string with at least two consecutive alphabetical characters, \n",
    "- Alternate the consecutive alphabetical characters of a given word between upper case and lower case characters,\n",
    "- With the first character of a series of consecutive alphabetical characters being lower case.\n",
    "- If a character is not alphabetical, separate consecutive alphabetical characters from that abutting character with an underscore.\n",
    "    - Do not add another underscore if the character is already an underscore. If there are multiple consecutive underscores, leave only one underscore.\n",
    "    - Do not add an underscore to the first or last character.\n",
    "    - For consecutive non-alphabetical characters, only have one underscore at the beginning and end of the series."
   ]
  },
  {
   "cell_type": "markdown",
   "metadata": {},
   "source": [
    "***Examples***:\n",
    "\n",
    "asdfgh12asDF = **aSdFgH_12_aSdF**\n",
    "\n",
    "\n",
    "ajSDA l1 l2 ll3 = **aJsDa_l1_l2_lL3**\n",
    "\n",
    "\n",
    "uHH1___33!w2h3 = **uHh_1_33!\\_w_2_h_3**\n",
    "***\n",
    "\n",
    "**Considerations**:\n",
    "- Strings with multiple terminal underscores\n",
    "- Strings with multiple leading underscores\n",
    "- Strings with multiple intra-underscores"
   ]
  },
  {
   "cell_type": "code",
   "execution_count": 210,
   "metadata": {},
   "outputs": [],
   "source": [
    "def camelize(n):\n",
    "\n",
    "    # 1. Set up - strip list of all leading and trailing underscores first \n",
    "    # - convert to space, then convert back to underscores\n",
    "    # - This will help avoid issue of multiple underscores - this is the key!\n",
    "    \n",
    "    n_space = [' ' if x == '_' else x for x in n]\n",
    "    n_space = ''.join(n_space) # put it back together for stripping\n",
    "    n_stripped = n_space.strip()\n",
    "    character_list = ['_' if x == ' ' else x for x in n_stripped]\n",
    "    \n",
    "\n",
    "    # 2. List-ify the string - separate logic between isalpha and not isnotalpha\n",
    "    # 3. Run through each characters, accounting for underscore rules\n",
    "    \n",
    "    result = []\n",
    "    \n",
    "    for char in character_list:\n",
    "        \n",
    "        if char.isalpha(): # if character is alphabetical character\n",
    "            \n",
    "            if len(result) == 0:\n",
    "                result.append(char.lower())\n",
    "        \n",
    "            elif result[-1].islower():\n",
    "                result.append(char.upper())\n",
    "                \n",
    "            elif result[-1].isalpha() == False and result[-1] != '_':\n",
    "                result.append('_')\n",
    "                result.append(char.lower())   \n",
    "            \n",
    "            else:\n",
    "                result.append(char.lower())\n",
    "        \n",
    "                \n",
    "        else:  # if character is non-alphabetical character\n",
    "            \n",
    "            if len(result) == 0:\n",
    "                result.append(char)\n",
    "            \n",
    "            elif result[-1].isalpha(): # if preceding character is alphabetical\n",
    "                    \n",
    "                if char == '_':\n",
    "                    result.append(char)\n",
    "                else:\n",
    "                    result.append('_')\n",
    "                    result.append(char)\n",
    "                \n",
    "            else: # if preceding character is NOT alphabetical\n",
    "                if result[-1] == '_' and char == '_': # if preceding character is an underscore\n",
    "                    continue\n",
    "                else:\n",
    "                    result.append(char) # if the preceding character is NOT an underscore\n",
    "                        \n",
    "    return ''.join(result)\n",
    "\n",
    "# DONE!"
   ]
  },
  {
   "cell_type": "code",
   "execution_count": 206,
   "metadata": {},
   "outputs": [
    {
     "data": {
      "text/plain": [
       "'4_bAb_444_aGoUn_1_n'"
      ]
     },
     "execution_count": 206,
     "metadata": {},
     "output_type": "execute_result"
    }
   ],
   "source": [
    "word = '4bab444agoun1n'\n",
    "camelize(word)"
   ]
  },
  {
   "cell_type": "code",
   "execution_count": 207,
   "metadata": {},
   "outputs": [
    {
     "data": {
      "text/plain": [
       "'333_aAaAaB_1_1'"
      ]
     },
     "execution_count": 207,
     "metadata": {},
     "output_type": "execute_result"
    }
   ],
   "source": [
    "word2 = '333AAAAAb1___1'\n",
    "\n",
    "camelize(word2)"
   ]
  },
  {
   "cell_type": "code",
   "execution_count": 208,
   "metadata": {},
   "outputs": [
    {
     "data": {
      "text/plain": [
       "'a_b_4_hHhHhH'"
      ]
     },
     "execution_count": 208,
     "metadata": {},
     "output_type": "execute_result"
    }
   ],
   "source": [
    "camelize('A___________b_4hhhhhh')"
   ]
  },
  {
   "cell_type": "code",
   "execution_count": 211,
   "metadata": {},
   "outputs": [
    {
     "data": {
      "text/plain": [
       "'a_a_d_1_1_d_1_1_d'"
      ]
     },
     "execution_count": 211,
     "metadata": {},
     "output_type": "execute_result"
    }
   ],
   "source": [
    "camelize('__a_a_d1_1d1_1_d_')"
   ]
  },
  {
   "cell_type": "code",
   "execution_count": 213,
   "metadata": {},
   "outputs": [],
   "source": [
    "# QED!"
   ]
  }
 ],
 "metadata": {
  "kernelspec": {
   "display_name": "Python 3",
   "language": "python",
   "name": "python3"
  },
  "language_info": {
   "codemirror_mode": {
    "name": "ipython",
    "version": 3
   },
   "file_extension": ".py",
   "mimetype": "text/x-python",
   "name": "python",
   "nbconvert_exporter": "python",
   "pygments_lexer": "ipython3",
   "version": "3.7.7"
  }
 },
 "nbformat": 4,
 "nbformat_minor": 4
}
