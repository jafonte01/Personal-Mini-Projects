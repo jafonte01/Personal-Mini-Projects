{
 "cells": [
  {
   "cell_type": "markdown",
   "metadata": {},
   "source": [
    "# Codewars\n",
    "## Playing on a Chessboard - 6 Kyu\n",
    "***\n",
    "\n",
    "### by John A. Fonte\n",
    "### 12/02/2021\n",
    "\n",
    "### QUESTION:\n",
    "\n",
    "With a friend we used to play the following game on a chessboard (8, rows, 8 columns). On the first row at the bottom we put numbers:\n",
    "<br><br>\n",
    "`1/2, 2/3, 3/4, 4/5, 5/6, 6/7, 7/8, 8/9`\n",
    "<br><br>\n",
    "On row 2 (2nd row from the bottom) we have:\n",
    "<br><br>\n",
    "`1/3, 2/4, 3/5, 4/6, 5/7, 6/8, 7/9, 8/10`\n",
    "<br><br>\n",
    "On row 3:\n",
    "<br><br>\n",
    "`1/4, 2/5, 3/6, 4/7, 5/8, 6/9, 7/10, 8/11`\n",
    "<br><br>\n",
    "until last row:\n",
    "<br><br>\n",
    "`1/9, 2/10, 3/11, 4/12, 5/13, 6/14, 7/15, 8/16`\n",
    "<br><br>\n",
    "When all numbers are on the chessboard each in turn we toss a coin. The one who get \"head\" wins and the other gives him, in dollars, the sum of the numbers on the chessboard. We play for fun, the dollars come from a monopoly game!\n",
    "<br><br>\n",
    "**Task**<br><br>\n",
    "How much can I (or my friend) win or loses for each game if the chessboard has n rows and n columns? Add all of the fractional values on an n by n sized board and give the answer as a simplified fraction.\n",
    "\n",
    "***\n",
    "***\n",
    "\n",
    "Sample tests:\n",
    "- function(0) = \\[0\\]\n",
    "- function(1) = \\[1, 2\\]\n",
    "- function(8) = \\[32\\]\n",
    "\n",
    "***"
   ]
  },
  {
   "cell_type": "code",
   "execution_count": 14,
   "metadata": {},
   "outputs": [],
   "source": [
    "#STARTING VERSION - V 1.0--------------\n",
    "\n",
    "def game(n):\n",
    "    \n",
    "    # CONCEPT: Double loop - outer loop = row; inner loop = column\n",
    "    ### numerator = column number\n",
    "    ### denominator = column number + row number\n",
    "    ### n = row length = column length\n",
    "    \n",
    "    if n == 0:\n",
    "        return [0]\n",
    "    elif n == 1:\n",
    "        return [1,2]\n",
    "    \n",
    "    else:\n",
    "    \n",
    "        rowDenominator = 0 # just for starting off\n",
    "        totalCount = 0\n",
    "    \n",
    "        for row in range(n):\n",
    "        \n",
    "            numerator = 0 # inside loop for resetting value\n",
    "            rowDenominator += 1\n",
    "            rowAndColumnDenominator = 0\n",
    "        \n",
    "            for column in range(n):\n",
    "            \n",
    "                numerator += 1\n",
    "                rowAndColumnDenominator = (column + rowDenominator + 1) \n",
    "            \n",
    "                totalCount += (numerator/rowAndColumnDenominator)\n",
    "\n",
    "        #########################\n",
    "        #########################\n",
    "\n",
    "        # Converting to fraction \n",
    "\n",
    "            '''\n",
    "            Finding gcd requires a starting divisor. The largest possible divisor\n",
    "            is in one of four situations:\n",
    "            1. The full denominator, if num > denom (i.e., whole number, 10/2 = 5)\n",
    "            2. The full numerator, if num < denom (e.g., 3/6)\n",
    "            3. *Half* the smaller of the two numbers, if 2. is not satisfied \n",
    "            (e.g., for 10/14, there is no divisor greater than 5 (half of 10))\n",
    "            4. (A divisor somewhere between 2 and (half of smaller num - 1)...)\n",
    "            '''\n",
    "\n",
    "        # Situation No. 1\n",
    "\n",
    "        if totalCount == int(totalCount):\n",
    "\n",
    "            return [totalCount]\n",
    "\n",
    "        # dealing with fractional values for Situations 2, 3, and 4:\n",
    "\n",
    "        else:\n",
    "            # obtaining decimal portion to get denominator\n",
    "            decimalSplit = str(totalCount).split('.')\n",
    "            decimalLength = len(decimalSplit[-1])\n",
    "            decimalDenominator = 10 ** decimalLength\n",
    "\n",
    "            decimalNumerator = totalCount * decimalDenominator\n",
    "            # ^^^ e.g., \"32.1414\" would turn into \"321414/10000\"\n",
    "\n",
    "            #####################\n",
    "            #####################\n",
    "\n",
    "            # Situation No. 2\n",
    "\n",
    "            if decimalDenominator % decimalNumerator == 0:\n",
    "\n",
    "                return [1, decimalDenominator/decimalNumerator]\n",
    "\n",
    "            # obtaining greatest common divisor, \"GCD\"\n",
    "            # for Situation Nos. 3 and 4\n",
    "\n",
    "            else:\n",
    "\n",
    "            # note Situation No. 3!\n",
    "                # \"int\" is used to drop off the .5 for odd values\n",
    "                startingDivisor = int(min(decimalNumerator, decimalDenominator)/2)\n",
    "\n",
    "                '''\n",
    "                Beginning with a range of 0 to startingDivisor/2, \n",
    "                with increments of 1 each in that range,\n",
    "                if numerator and denominator are divisible by divisor \"i\",\n",
    "                then i = greatest common divisor - return fractional value and stop,\n",
    "                else loop and adjust i by -1 in that range.\n",
    "                '''\n",
    "\n",
    "                for i in range(startingDivisor, 1, -1):\n",
    "                    if decimalNumerator % i == 0 and decimalDenominator % i == 0:\n",
    "\n",
    "                        return [numerator/i, denominator/i]\n",
    "\n",
    "                        break"
   ]
  },
  {
   "cell_type": "code",
   "execution_count": 15,
   "metadata": {
    "scrolled": true
   },
   "outputs": [
    {
     "ename": "KeyboardInterrupt",
     "evalue": "",
     "output_type": "error",
     "traceback": [
      "\u001b[1;31m---------------------------------------------------------------------------\u001b[0m",
      "\u001b[1;31mKeyboardInterrupt\u001b[0m                         Traceback (most recent call last)",
      "\u001b[1;32m<ipython-input-15-38e4f8fbe841>\u001b[0m in \u001b[0;36m<module>\u001b[1;34m\u001b[0m\n\u001b[1;32m----> 1\u001b[1;33m \u001b[0mgame\u001b[0m\u001b[1;33m(\u001b[0m\u001b[1;36m9\u001b[0m\u001b[1;33m)\u001b[0m\u001b[1;33m\u001b[0m\u001b[1;33m\u001b[0m\u001b[0m\n\u001b[0m",
      "\u001b[1;32m<ipython-input-14-32d4572a7f15>\u001b[0m in \u001b[0;36mgame\u001b[1;34m(n)\u001b[0m\n\u001b[0;32m     87\u001b[0m                 '''\n\u001b[0;32m     88\u001b[0m \u001b[1;33m\u001b[0m\u001b[0m\n\u001b[1;32m---> 89\u001b[1;33m                 \u001b[1;32mfor\u001b[0m \u001b[0mi\u001b[0m \u001b[1;32min\u001b[0m \u001b[0mrange\u001b[0m\u001b[1;33m(\u001b[0m\u001b[0mstartingDivisor\u001b[0m\u001b[1;33m,\u001b[0m \u001b[1;36m1\u001b[0m\u001b[1;33m,\u001b[0m \u001b[1;33m-\u001b[0m\u001b[1;36m1\u001b[0m\u001b[1;33m)\u001b[0m\u001b[1;33m:\u001b[0m\u001b[1;33m\u001b[0m\u001b[1;33m\u001b[0m\u001b[0m\n\u001b[0m\u001b[0;32m     90\u001b[0m                     \u001b[1;32mif\u001b[0m \u001b[0mdecimalNumerator\u001b[0m \u001b[1;33m%\u001b[0m \u001b[0mi\u001b[0m \u001b[1;33m==\u001b[0m \u001b[1;36m0\u001b[0m \u001b[1;32mand\u001b[0m \u001b[0mdecimalDenominator\u001b[0m \u001b[1;33m%\u001b[0m \u001b[0mi\u001b[0m \u001b[1;33m==\u001b[0m \u001b[1;36m0\u001b[0m\u001b[1;33m:\u001b[0m\u001b[1;33m\u001b[0m\u001b[1;33m\u001b[0m\u001b[0m\n\u001b[0;32m     91\u001b[0m \u001b[1;33m\u001b[0m\u001b[0m\n",
      "\u001b[1;31mKeyboardInterrupt\u001b[0m: "
     ]
    }
   ],
   "source": [
    "# RESULT - times out :(\n",
    "game(9)"
   ]
  },
  {
   "cell_type": "code",
   "execution_count": 17,
   "metadata": {},
   "outputs": [],
   "source": [
    "# Checking first part of code\n",
    "\n",
    "def game2(n):\n",
    "    rowDenominator = 0 # just for starting off\n",
    "    totalCount = 0\n",
    "\n",
    "    for row in range(n):\n",
    "\n",
    "        numerator = 0 # inside loop for resetting value\n",
    "        rowDenominator += 1\n",
    "        rowAndColumnDenominator = 0\n",
    "\n",
    "        for column in range(n):\n",
    "\n",
    "            numerator += 1\n",
    "            rowAndColumnDenominator = (column + rowDenominator + 1) \n",
    "\n",
    "            totalCount += (numerator/rowAndColumnDenominator)\n",
    "            \n",
    "        return totalCount"
   ]
  },
  {
   "cell_type": "code",
   "execution_count": 19,
   "metadata": {},
   "outputs": [
    {
     "name": "stdout",
     "output_type": "stream",
     "text": [
      "None\n",
      "0.5\n",
      "1.1666666666666665\n",
      "1.9166666666666665\n",
      "2.716666666666667\n",
      "3.5500000000000003\n",
      "4.4071428571428575\n",
      "5.2821428571428575\n"
     ]
    }
   ],
   "source": [
    "print(game2(0)) # should be 0\n",
    "print(game2(1)) # should be 0.5\n",
    "print(game2(2)) # should be 2.0\n",
    "print(game2(3)) # should be 4.5\n",
    "print(game2(4)) # should be 8\n",
    "print(game2(5)) # should be 12.5\n",
    "print(game2(6)) # should be 18 \n",
    "print(game2(7)) \n",
    "# I didn't manually math out game2(7),\n",
    "# but based on the pattern, should be 24.5."
   ]
  },
  {
   "cell_type": "markdown",
   "metadata": {},
   "source": [
    "***\n",
    "## Observations\n",
    "\n",
    "1. Doing it functionally yields floating point errors. No bueno.\n",
    "2. There is a clear pattern to the values. This is shown in the below function, which yields O(n) efficiency.\n",
    "    - I can't seem to find an O(1) answer. I don't think there is one.\n",
    "\n",
    "## Moral of the Story\n",
    "\n",
    "**ALWAYS** try out several (not just one or two) test cases before delving into a function! There may be a pattern that will make everyone's life easier."
   ]
  },
  {
   "cell_type": "code",
   "execution_count": 1,
   "metadata": {},
   "outputs": [],
   "source": [
    "def game3(n):\n",
    "    \n",
    "    #deal with two edge cases first - n=0 and n=1\n",
    "    if n == 0:\n",
    "        return [0]\n",
    "    \n",
    "    elif n == 1:\n",
    "        return [1,2]\n",
    "    \n",
    "    else:\n",
    "    \n",
    "        total = 0\n",
    "    \n",
    "        for row in range(2, n+1):\n",
    "        \n",
    "            total += (row - 1) + 0.5\n",
    "        \n",
    "        if total == int(total):\n",
    "            return [total]\n",
    "        \n",
    "        else:\n",
    "            return [((int(total)*2)+1), 2]"
   ]
  },
  {
   "cell_type": "code",
   "execution_count": 2,
   "metadata": {},
   "outputs": [
    {
     "data": {
      "text/plain": [
       "[1, 2]"
      ]
     },
     "execution_count": 2,
     "metadata": {},
     "output_type": "execute_result"
    }
   ],
   "source": [
    "game3(1)"
   ]
  },
  {
   "cell_type": "code",
   "execution_count": 3,
   "metadata": {},
   "outputs": [
    {
     "data": {
      "text/plain": [
       "[99, 2]"
      ]
     },
     "execution_count": 3,
     "metadata": {},
     "output_type": "execute_result"
    }
   ],
   "source": [
    "game3(10)"
   ]
  },
  {
   "cell_type": "code",
   "execution_count": 4,
   "metadata": {},
   "outputs": [
    {
     "data": {
      "text/plain": [
       "[312.0]"
      ]
     },
     "execution_count": 4,
     "metadata": {},
     "output_type": "execute_result"
    }
   ],
   "source": [
    "game3(25)"
   ]
  },
  {
   "cell_type": "markdown",
   "metadata": {},
   "source": [
    "# COMPLETE!"
   ]
  }
 ],
 "metadata": {
  "kernelspec": {
   "display_name": "Python 3",
   "language": "python",
   "name": "python3"
  },
  "language_info": {
   "codemirror_mode": {
    "name": "ipython",
    "version": 3
   },
   "file_extension": ".py",
   "mimetype": "text/x-python",
   "name": "python",
   "nbconvert_exporter": "python",
   "pygments_lexer": "ipython3",
   "version": "3.7.7"
  }
 },
 "nbformat": 4,
 "nbformat_minor": 4
}
