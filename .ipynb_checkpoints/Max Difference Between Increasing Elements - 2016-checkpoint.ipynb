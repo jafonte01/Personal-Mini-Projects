{
 "cells": [
  {
   "cell_type": "markdown",
   "metadata": {},
   "source": [
    "# Max Difference Between Increasing Elements\n",
    "## 2016 Coding Challenge Question\n",
    "\n",
    "**QUESTION**:\n",
    "\n",
    "\n",
    "- For array \"arr\" of size *n*,\n",
    "- Where i < j\n",
    "- And where arr\\[i\\] < arr\\[j\\], \n",
    "- Find the *maximum* difference of arr\\[j\\] - arr\\[i\\]\n",
    "- If max(arr) = arr\\[0\\], then return \"-1\".\n",
    "\n",
    "\n",
    "***Example_1:***\n",
    "```Python\n",
    "arr = [7, 1, 2, 3, 6]\n",
    "# minimum = arr[1] = 1\n",
    "# maximum after arr[1] is arr[4] = 6\n",
    "# return 5 as answer (arr[j] - arr[i] = 6 - 1)\n",
    "```\n",
    "\n",
    "\n",
    "***Example_2:***\n",
    "```Python\n",
    "arr = [2, 2, 2, 1, 1]\n",
    "# minimum = arr[3] and arr[4] = 1 (j = 3 or 4)\n",
    "# however, because arr[j] > arr[i], \n",
    "# must return -1.\n",
    "```"
   ]
  },
  {
   "cell_type": "code",
   "execution_count": 59,
   "metadata": {},
   "outputs": [],
   "source": [
    "def arrdiff(arr): \n",
    "    \n",
    "    reversed_arr = list(reversed(arr))[:-1] # excludes first value\n",
    "    print(reversed_arr)\n",
    "    maxx = max(reversed_arr)\n",
    "\n",
    "    maxx_idx = (len(arr) - reversed_arr.index(maxx) - 1) # reversed to get ***final*** max value, not first\n",
    "                                               # uses \"-1\" to get correct index \n",
    "                                                # this step is to reverse back the index\n",
    "    \n",
    "\n",
    "    minn = min(arr[:maxx_idx])\n",
    "    print(maxx_idx)\n",
    "    print(minn)\n",
    "\n",
    "    \n",
    "    result = maxx - minn\n",
    "    \n",
    "    if result < 1:\n",
    "        return -1\n",
    "    else:\n",
    "        return result\n",
    "    \n",
    "    ################ DONE!"
   ]
  }
 ],
 "metadata": {
  "kernelspec": {
   "display_name": "Python 3",
   "language": "python",
   "name": "python3"
  },
  "language_info": {
   "codemirror_mode": {
    "name": "ipython",
    "version": 3
   },
   "file_extension": ".py",
   "mimetype": "text/x-python",
   "name": "python",
   "nbconvert_exporter": "python",
   "pygments_lexer": "ipython3",
   "version": "3.7.7"
  }
 },
 "nbformat": 4,
 "nbformat_minor": 4
}
